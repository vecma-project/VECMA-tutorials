{
 "cells": [
  {
   "cell_type": "markdown",
   "metadata": {},
   "source": [
    "# Tutorial for the FabSim3 Autovalidator: An example in migration prediction\n",
    "\n",
    "[FabSim3](https://fabsim3.readthedocs.io/en/latest/) is a Python-based automation toolkit for scientific simulation and data processing workflows, licensed under the BSD 3-clause license. It is a component of the [VECMA Toolkit](http://www.vecma-toolkit.eu), which is developed as a part of the [VECMA](http://www.vecma.eu) project funded by the European Union Horizon 2020 research and innovation programme.\n",
    "\n",
    "FabSim3 supports the use of simple one-liner commands to:\n",
    "\n",
    "- Organize input, output and environment information, creating a consistent log and making it possible by default to repeat/reproduce runs.\n",
    "- Establish and run coupled models using the workflow automation functionalities.\n",
    "- Perform large ensemble simulations (or replicated ones) using a one-line command.\n",
    "- Enable the execution of simulation and analysis tasks on supercomputers.\n",
    "\n",
    "Users can perform complex remote tasks from a local command-line, and run single jobs, ensembles of multiple jobs, and dynamic workflows through schedulers such as SLURM, Portable Batch System Professional (PBSPro), LoadLeveller and Quality in Cloud and Grid [(QCG)](http://www.qoscosgrid.org/trac/qcg). FabSim3 stores machine-specific configurations in the repository, and applies it to all applications run on that machine. These configurations are updated by any contributor who feels that a fix or improvement is required.\n",
    "\n",
    "- #### <p> <span style=\"color:red\"><em> <b> NOTE </b> This setup targets VECMA PSNC Jupyter Notebook platform, if you want to use this tutorial on your local Linux machine, please use FabSim3_Flee_Autovalidator_Linux.ipynb file</em> text</span>.</p>"
   ]
  },
  {
   "cell_type": "markdown",
   "metadata": {},
   "source": [
    "## <span style=\"color:#800000\"><b> Intalling FabSim3 <b></span>\n",
    "\n",
    "To install [FabSim3](https://github.com/djgroen/FabSim3), clone the repository using:"
   ]
  },
  {
   "cell_type": "code",
   "execution_count": null,
   "metadata": {},
   "outputs": [],
   "source": [
    "%%bash\n",
    "\n",
    "if [ ! -d \"FabSim3\" ]\n",
    "then\n",
    "    git clone https://github.com/djgroen/FabSim3\n",
    "    echo \"FabSim3 rep cloned in -> \" $PWD\n",
    "else\n",
    "    git -C FabSim3 pull\n",
    "    echo \"updating FabSim3 rep cloned in -> \" $PWD\n",
    "fi"
   ]
  },
  {
   "cell_type": "markdown",
   "metadata": {},
   "source": [
    "### Setup ssh key\n",
    "\n",
    "Prior to setting up ssh connection, please insert  \n",
    "- `.bashrc` file in your home directory with the following `export PATH=/opt/conda/bin:${PATH}` and\n",
    "- `sshd_config` file in your home directory with the following content\n",
    "\n",
    "\n",
    "`ListenAddress 127.0.0.1:2222\n",
    "HostKey /etc/ssh-jovyan/ssh_host_rsa_key\n",
    "HostKey /etc/ssh-jovyan/ssh_host_dsa_key\n",
    "AuthorizedKeysFile .ssh/authorized_keys\n",
    "ChallengeResponseAuthentication no\n",
    "UsePAM yes\n",
    "Subsystem   sftp    /usr/lib/openssh/sftp-server\n",
    "PidFile /etc/ssh-jovyan/sshd.pid\n",
    "#SyslogFacility AUTH\n",
    "LogLevel DEBUG\n",
    "StrictModes no`."
   ]
  },
  {
   "cell_type": "markdown",
   "metadata": {},
   "source": [
    "To setup ssh connection for executing jobs on localhost, simply run:"
   ]
  },
  {
   "cell_type": "code",
   "execution_count": null,
   "metadata": {
    "scrolled": true
   },
   "outputs": [],
   "source": [
    "%%bash\n",
    "\n",
    "PORT=2222\n",
    "\n",
    "/usr/sbin/sshd -f /home/jovyan/sshd_config\n",
    "rm -rf ~/.ssh\n",
    "mkdir ~/.ssh\n",
    "ssh-keygen -t rsa -N \"\" -f ~/.ssh/id_rsa\n",
    "cat ~/.ssh/id_rsa.pub >> ~/.ssh/authorized_keys\n",
    "chmod og-wx ~/.ssh/authorized_keys\n",
    "ssh-keyscan -4 -p $PORT localhost >> ~/.ssh/known_hosts"
   ]
  },
  {
   "cell_type": "markdown",
   "metadata": {},
   "source": [
    "### Dependencies\n",
    "\n",
    "FabSim3 relies strongly on the following Python modules:\n",
    "\n",
    "- [Fabric](http://www.fabfile.org) (shown to work with versions 1.5.3 and 1.10.0), \n",
    "- [PyYAML](https://pypi.org/project/PyYAML/) (any version), \n",
    "- [ruamel.yaml](https://pypi.org/project/ruamel.yaml/)\n",
    "- [numpy](https://numpy.org/install/) and\n",
    "- [cryptography](https://pypi.org/project/cryptography/).\n",
    "\n",
    "These dependencies are marked down in the `requirements.txt` file, as\n",
    "\n",
    "`fabric3==1.13.1.post1, \n",
    " pyyaml, \n",
    " pytest, \n",
    " pytest-pep8, \n",
    " ruamel.yaml, \n",
    " numpy, \n",
    " cryptography`\n",
    " \n",
    "To install requitements.txt, simply run the following:"
   ]
  },
  {
   "cell_type": "code",
   "execution_count": null,
   "metadata": {
    "scrolled": true
   },
   "outputs": [],
   "source": [
    "# Install required Python modules\n",
    "!pip install -r FabSim3/requirements.txt"
   ]
  },
  {
   "cell_type": "markdown",
   "metadata": {},
   "source": [
    "### Configure `machine_user.yml` file\n",
    "\n",
    "To set personal configurations, copy `machines_user_example.yml` as `machines_user.yml` in the `FabSim3/fabsim/deploy` folder and run the following sequence of commands, which will change `localhost:` configurations:\n"
   ]
  },
  {
   "cell_type": "code",
   "execution_count": null,
   "metadata": {},
   "outputs": [],
   "source": [
    "%%bash\n",
    "\n",
    "PORT=2222\n",
    "\n",
    "# Configure machines_user.yml\n",
    "cp FabSim3/fabsim/deploy/machines_user_example.yml FabSim3/fabsim/deploy/machines_user.yml\n",
    "\n",
    "# Defines your username from local configuration\n",
    "sed -i \"s/your-username/`whoami`/g\" FabSim3/fabsim/deploy/machines_user.yml\n",
    "\n",
    "# Defines port number for localhost connection\n",
    "sed -i \"s#localhost:#localhost:\\n  port: $PORT#g\" FabSim3/fabsim/deploy/machines_user.yml\n",
    "\n",
    "# Defines working directory for configs and results directories\n",
    "sed -i \"s#localhost:#localhost:\\n  local_configs: \\\"$PWD/FabSim3/config_files\\\"#g\" FabSim3/fabsim/deploy/machines_user.yml\n",
    "sed -i \"s#localhost:#localhost:\\n  local_results: \\\"$PWD/FabSim3/results\\\"#g\" FabSim3/fabsim/deploy/machines_user.yml\n",
    "\n",
    "# Defines home path for execution\n",
    "sed -i \"s#localhost:#localhost:\\n  home_path_template: \\\"$PWD/FabSim3/localhost_exe\\\"#g\" FabSim3/fabsim/deploy/machines_user.yml"
   ]
  },
  {
   "cell_type": "markdown",
   "metadata": {},
   "source": [
    "To view the changes made in the `machines_user.yml` file, simply run:"
   ]
  },
  {
   "cell_type": "code",
   "execution_count": null,
   "metadata": {},
   "outputs": [],
   "source": [
    "import yaml\n",
    "\n",
    "machines_user_yml = yaml.load(open(\"FabSim3/fabsim/deploy/machines_user.yml\"), Loader=yaml.FullLoader)\n",
    "print(yaml.dump({'localhost': machines_user_yml['localhost']}))\n"
   ]
  },
  {
   "cell_type": "markdown",
   "metadata": {},
   "source": [
    "### Add FabSim3 to your PATH and PYTHONPATH\n",
    "\n",
    "To add FabSim3 executable file to system `PATH` and setup `PYTHONPATH`:"
   ]
  },
  {
   "cell_type": "code",
   "execution_count": null,
   "metadata": {},
   "outputs": [],
   "source": [
    "import os\n",
    "import sys\n",
    "\n",
    "sys.path.insert(0,  r'%s/FabSim3/fabsim/bin' %(os.getcwd()))\n",
    "sys.path.insert(0,  r'%s/FabSim3/fabsim' %(os.getcwd()))\n",
    "os.environ['PATH']=r'%s/FabSim3/fabsim/bin' %(os.getcwd())+os.pathsep+os.environ['PATH']\n",
    "\n",
    "# Test if fabsim command is availble\n",
    "!which fabsim"
   ]
  },
  {
   "cell_type": "markdown",
   "metadata": {},
   "source": [
    "## FabSim3 plugins\n",
    "\n",
    "FabSim3 contains an integrated test infrastructure, more flexible customisation options using a plugin system and  examples to improve usability. These plugins are available in the `FabSim3/plugins` directory:"
   ]
  },
  {
   "cell_type": "code",
   "execution_count": null,
   "metadata": {},
   "outputs": [],
   "source": [
    "%%bash\n",
    "\n",
    "cat FabSim3/fabsim/deploy/plugins.yml"
   ]
  },
  {
   "cell_type": "markdown",
   "metadata": {},
   "source": [
    "### Dummy instance - FabDummy plugin\n",
    "\n",
    "To demonstrate the use of FabSim3 plugin, install the [FabDummy](https://github.com/djgroen/FabDummy) plugin  by running `install_plugin` command:"
   ]
  },
  {
   "cell_type": "code",
   "execution_count": null,
   "metadata": {},
   "outputs": [],
   "source": [
    "# Install FabDummy\n",
    "!fabsim localhost install_plugin:FabDummy"
   ]
  },
  {
   "cell_type": "markdown",
   "metadata": {},
   "source": [
    "#### Running FabDummy test\n",
    "\n",
    "To test the FabDummy plugin, run a dummy job using:"
   ]
  },
  {
   "cell_type": "code",
   "execution_count": null,
   "metadata": {
    "scrolled": true
   },
   "outputs": [],
   "source": [
    "%%bash\n",
    "\n",
    "cd FabSim3\n",
    "\n",
    "# Execute a dummy test job\n",
    "fabsim localhost dummy:dummy_test"
   ]
  },
  {
   "cell_type": "markdown",
   "metadata": {},
   "source": [
    "### Migration Modelling - FabFlee plugin\n",
    "\n",
    "The [FabFlee](https://github.com/djgroen/FabFlee) plugin  aims to automate the construction, execution and analysis of Flee, which is an agent-based modelling toolkit purpose-built for simulating the movement of individuals across geographical locations. An agent-based Flee simulation code is written in Python. For detailed information, see [Flee](https://flee.readthedocs.io/en/latest/index.html#) documentation.\n",
    "\n",
    "To install Flee, clone the repository by running:"
   ]
  },
  {
   "cell_type": "code",
   "execution_count": null,
   "metadata": {
    "scrolled": true
   },
   "outputs": [],
   "source": [
    "%%bash\n",
    "\n",
    "# Clone the Flee repository\n",
    "if [ ! -d \"flee\" ]\n",
    "then\n",
    "    git clone -b master https://github.com/djgroen/flee.git\n",
    "    echo \"flee rep cloned in -> \" $PWD\n",
    "else\n",
    "    git -C flee pull\n",
    "    echo \"updating flee rep cloned in -> \" $PWD\n",
    "fi"
   ]
  },
  {
   "cell_type": "markdown",
   "metadata": {},
   "source": [
    "#### Installing required python modules for Flee \n",
    "\n",
    "To install all required Python packages, simply install:"
   ]
  },
  {
   "cell_type": "code",
   "execution_count": null,
   "metadata": {},
   "outputs": [],
   "source": [
    "!pip install pandas matplotlib numpy mpi4py"
   ]
  },
  {
   "cell_type": "markdown",
   "metadata": {},
   "source": [
    "#### Installing FabFlee\n",
    "\n",
    "A FabSim3-based FabFlee plugin provides an environment for researchers and organisations to construct and modify simulations, instantiate and execute multiple runs for different policy decisions, as well as to validate and visualise the obtained results against the existing data.\n",
    "\n",
    "To install FabFlee, run `install_plugin` function using:"
   ]
  },
  {
   "cell_type": "code",
   "execution_count": null,
   "metadata": {},
   "outputs": [],
   "source": [
    "%%bash\n",
    "\n",
    "cd FabSim3\n",
    "\n",
    "# Install FabFlee \n",
    "fabsim localhost install_plugin:FabFlee"
   ]
  },
  {
   "cell_type": "markdown",
   "metadata": {},
   "source": [
    "#### Adding the Flee directory location to your machine_user.yml file\n",
    "\n",
    "Since FabFlee is a plugin for the Flee simulation code, add the current location of the Flee directory to the `machines_user.yml` configuration file:"
   ]
  },
  {
   "cell_type": "code",
   "execution_count": null,
   "metadata": {},
   "outputs": [],
   "source": [
    "%%bash\n",
    "\n",
    "PORT=2222\n",
    "\n",
    "# Configure machines_FabFlee_user.yml\n",
    "cp FabSim3/plugins/FabFlee/machines_FabFlee_user_example.yml FabSim3/plugins/FabFlee/machines_FabFlee_user.yml"
   ]
  },
  {
   "cell_type": "code",
   "execution_count": null,
   "metadata": {},
   "outputs": [],
   "source": [
    "!sed -i  \"s#<PATH_TO_FLEE>#$PWD/flee#g\" FabSim3/plugins/FabFlee/machines_FabFlee_user.yml"
   ]
  },
  {
   "cell_type": "markdown",
   "metadata": {},
   "source": [
    "To view changes in `machines_user.yml`, simply run the following"
   ]
  },
  {
   "cell_type": "code",
   "execution_count": null,
   "metadata": {},
   "outputs": [],
   "source": [
    "machines_user_yml = yaml.load(open(\"FabSim3/plugins/FabFlee/machines_FabFlee_user.yml\"), Loader=yaml.FullLoader)\n",
    "\n",
    "print(yaml.dump({'localhost': machines_user_yml['localhost']}))\n"
   ]
  },
  {
   "cell_type": "markdown",
   "metadata": {},
   "source": [
    "#### Executing a migration conflict scenario\n",
    "\n",
    "To execute FabFlee job on a localhost, execute one of the conflict instances using `flee` function in `FabSim3/plugins/FabFlee/config_files`, such as Mali (mali, simulation period of 300 days), Burundi (burundi, simulation period of 396 days), South Sudan (ssudan, simulation period of 604 days) and Central African Republic (car, simulation period of 820 days). \n",
    "\n",
    "For illustration purposes, the conflict scenario of Mali is executed to obtain the simulation output for a simulation period of 50 days, which can be changed up to 300 days."
   ]
  },
  {
   "cell_type": "code",
   "execution_count": null,
   "metadata": {},
   "outputs": [],
   "source": [
    "%%bash\n",
    "\n",
    "cd FabSim3\n",
    "\n",
    "fabsim localhost flee:mali,simulation_period=50"
   ]
  },
  {
   "cell_type": "markdown",
   "metadata": {},
   "source": [
    "#### Fetching the simulation results to `FabSim3/results` directory\n",
    "\n",
    "After the job has finished, a message will be printed indicating where the output data resides. To fetch and copy the obtained results to `FabSim3/results` directory, simply execute:"
   ]
  },
  {
   "cell_type": "code",
   "execution_count": null,
   "metadata": {
    "scrolled": true
   },
   "outputs": [],
   "source": [
    "%%bash\n",
    "\n",
    "cd FabSim3\n",
    "\n",
    "fabsim localhost fetch_results"
   ]
  },
  {
   "cell_type": "markdown",
   "metadata": {},
   "source": [
    "#### Plotting the simulation output\n",
    "\n",
    "After fetching the simulation results, analyse and interpret simulation output by plotting graphs for individual camps comparing simulation output and UNHCR data, as well as average relative difference graph for the simulated conflict situation."
   ]
  },
  {
   "cell_type": "code",
   "execution_count": null,
   "metadata": {},
   "outputs": [],
   "source": [
    "%%bash\n",
    "\n",
    "cd FabSim3\n",
    "\n",
    "fabsim localhost plot_output:mali_localhost_16,out"
   ]
  },
  {
   "cell_type": "markdown",
   "metadata": {},
   "source": [
    "To list generated plots, run the following command:"
   ]
  },
  {
   "cell_type": "code",
   "execution_count": null,
   "metadata": {},
   "outputs": [],
   "source": [
    "%%bash\n",
    "\n",
    "cd FabSim3/results/mali_localhost_16\n",
    "ls"
   ]
  },
  {
   "cell_type": "markdown",
   "metadata": {},
   "source": [
    "To view generated plots, simply run:"
   ]
  },
  {
   "cell_type": "code",
   "execution_count": null,
   "metadata": {},
   "outputs": [],
   "source": [
    "from IPython.display import Image \n",
    "Image('FabSim3/results/mali_localhost_16/out/camps/Abala.png')"
   ]
  },
  {
   "cell_type": "code",
   "execution_count": null,
   "metadata": {},
   "outputs": [],
   "source": [
    "from IPython.display import Image \n",
    "Image('FabSim3/results/mali_localhost_16/out/errors/error.png')"
   ]
  },
  {
   "cell_type": "markdown",
   "metadata": {},
   "source": [
    "## Autovalidator\n",
    "\n",
    "There are several simulation instances including different conflict countries and simulation periods in `FabFlee/config_files`. These instances can be executed, analysed and validated using FabFlee (as shown in the previous steps). Importantly, multiple conflict scenarios can be also executed at once for validation purposes. To perform autovalidation on constructed conflict models, simply go to `FabFlee/config_files/validation/SWEEP` directory and list existing conflicts:"
   ]
  },
  {
   "cell_type": "code",
   "execution_count": null,
   "metadata": {},
   "outputs": [],
   "source": [
    "%%bash\n",
    "\n",
    "cd FabSim3/plugins/FabFlee/config_files/validation/SWEEP\n",
    "\n",
    "ls"
   ]
  },
  {
   "cell_type": "markdown",
   "metadata": {},
   "source": [
    "Each conflict scenario contains `input_csv` (input data), `source_data` (data for comparing simulation results and UNHCR historical data) and `run.py`/`run_par.py` execution scripts. "
   ]
  },
  {
   "cell_type": "code",
   "execution_count": null,
   "metadata": {},
   "outputs": [],
   "source": [
    "%%bash\n",
    "\n",
    "cd FabSim3/plugins/FabFlee/config_files/validation/SWEEP/burundi2015\n",
    "\n",
    "ls"
   ]
  },
  {
   "cell_type": "markdown",
   "metadata": {},
   "source": [
    "Since these simulation instances are sizeable to execute, we scale down the number of agents by factor of 100. Specifically, `simsetting.csv` file allows to perform this:"
   ]
  },
  {
   "cell_type": "code",
   "execution_count": null,
   "metadata": {},
   "outputs": [],
   "source": [
    "%%bash\n",
    "\n",
    "cat FabSim3/plugins/FabFlee/config_files/validation/simsetting.csv"
   ]
  },
  {
   "cell_type": "markdown",
   "metadata": {},
   "source": [
    "To execute these conflict scenarios at once, simply run the `validate_flee` function as follows"
   ]
  },
  {
   "cell_type": "code",
   "execution_count": null,
   "metadata": {},
   "outputs": [],
   "source": [
    "%%bash\n",
    "\n",
    "cd FabSim3\n",
    "\n",
    "fabsim localhost validate_flee"
   ]
  },
  {
   "cell_type": "markdown",
   "metadata": {},
   "source": [
    "After simulations are completed, validation values of these conflict instances are calculated and printed in the output. Alternatively, the command below can be executed after completion of simulations to observe the validation outputs for each conflict instance."
   ]
  },
  {
   "cell_type": "code",
   "execution_count": null,
   "metadata": {},
   "outputs": [],
   "source": [
    "%%bash\n",
    "\n",
    "cd FabSim3\n",
    "\n",
    "fabsim localhost validate_flee_output:validation_localhost_4"
   ]
  }
 ],
 "metadata": {
  "kernelspec": {
   "display_name": "Python 3 (ipykernel)",
   "language": "python",
   "name": "python3"
  },
  "language_info": {
   "codemirror_mode": {
    "name": "ipython",
    "version": 3
   },
   "file_extension": ".py",
   "mimetype": "text/x-python",
   "name": "python",
   "nbconvert_exporter": "python",
   "pygments_lexer": "ipython3",
   "version": "3.8.0"
  }
 },
 "nbformat": 4,
 "nbformat_minor": 4
}
